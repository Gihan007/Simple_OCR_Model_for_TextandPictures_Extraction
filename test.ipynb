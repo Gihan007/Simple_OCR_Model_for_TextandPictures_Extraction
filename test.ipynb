{
 "cells": [
  {
   "cell_type": "code",
   "execution_count": 2,
   "id": "d76995a8",
   "metadata": {},
   "outputs": [],
   "source": [
    "pages = \"/extracted_texts/cv.txt\""
   ]
  },
  {
   "cell_type": "code",
   "execution_count": 8,
   "id": "5cc0196a",
   "metadata": {},
   "outputs": [
    {
     "name": "stdout",
     "output_type": "stream",
     "text": [
      "17\n"
     ]
    }
   ],
   "source": [
    "from langchain.text_splitter import RecursiveCharacterTextSplitter\n",
    "\n",
    "# Read the plain text\n",
    "with open(\"extracted_texts/cv.txt\", \"r\", encoding=\"utf-8\") as f:\n",
    "    raw_text = f.read()\n",
    "\n",
    "# Create splitter\n",
    "text_splitter = RecursiveCharacterTextSplitter(chunk_size=500, chunk_overlap=25)\n",
    "\n",
    "# Split the plain string, NOT documents\n",
    "chunks = text_splitter.split_text(raw_text)\n",
    "\n",
    "# View the first chunk (for example)\n",
    "print(len(chunks))\n"
   ]
  },
  {
   "cell_type": "code",
   "execution_count": 9,
   "id": "48d5ff11",
   "metadata": {},
   "outputs": [
    {
     "name": "stdout",
     "output_type": "stream",
     "text": [
      "✅ Successfully connected to Weaviate!\n"
     ]
    }
   ],
   "source": [
    "import weaviate\n",
    "from weaviate.auth import AuthApiKey\n",
    "\n",
    "# Your credentials\n",
    "weaviate_url = \"https://uv5embawqwgf65fbuhm1q.c0.asia-southeast1.gcp.weaviate.cloud\"\n",
    "weaviate_api_key = \"PJr2228NasulpFvGwNPcJdjnnNnDwpN2iFJq\"\n",
    "\n",
    "\n",
    "# Create client\n",
    "client = weaviate.Client(\n",
    "    url=weaviate_url,\n",
    "    auth_client_secret=AuthApiKey(weaviate_api_key),\n",
    ")\n",
    "\n",
    "# Test connection\n",
    "if client.is_ready():\n",
    "    print(\"✅ Successfully connected to Weaviate!\")\n",
    "else:\n",
    "    print(\"❌ Failed to connect.\")"
   ]
  },
  {
   "cell_type": "code",
   "execution_count": 10,
   "id": "ab12e70f",
   "metadata": {},
   "outputs": [],
   "source": [
    "import weaviate\n",
    "from weaviate.auth import AuthApiKey\n",
    "from langchain_community.vectorstores import Weaviate"
   ]
  },
  {
   "cell_type": "code",
   "execution_count": null,
   "id": "2be662c8",
   "metadata": {},
   "outputs": [],
   "source": [
    "vector_db = Weaviate.from_documents(\n",
    "    chunks,\n",
    "    huggingface_embeddings,\n",
    "    client=client,\n",
    "    by_text=False\n",
    ")"
   ]
  }
 ],
 "metadata": {
  "kernelspec": {
   "display_name": "Python 3",
   "language": "python",
   "name": "python3"
  },
  "language_info": {
   "codemirror_mode": {
    "name": "ipython",
    "version": 3
   },
   "file_extension": ".py",
   "mimetype": "text/x-python",
   "name": "python",
   "nbconvert_exporter": "python",
   "pygments_lexer": "ipython3",
   "version": "3.13.2"
  }
 },
 "nbformat": 4,
 "nbformat_minor": 5
}
